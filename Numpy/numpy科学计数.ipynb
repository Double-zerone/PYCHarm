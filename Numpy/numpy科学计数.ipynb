{
 "cells": [
  {
   "cell_type": "markdown",
   "source": [
    "## numpy\n",
    "科学计算库,提供了大量科学计算功能,底层为C,核心为多维数组类型,支持大量维度计算与矩阵运算,支持对ndarray对象的处理"
   ],
   "metadata": {
    "collapsed": false
   }
  },
  {
   "cell_type": "code",
   "execution_count": null,
   "outputs": [],
   "source": [
    "from numpy import dtype\n",
    "import numpy as np\n",
    "a = np.arange(10)#创建一个数组,arange([start,] stop[, step,], dtype=None, *, like=None): # real signature unknown; NOTE: unreliably restored from __doc__\n",
    "b= np.arange(4,21,2,dtype=float)#创建4到20步长为2的数组\n",
    "\n",
    "print(a)\n",
    "print(type(a))\n",
    "\n",
    "print(b)\n",
    "print(type(b))"
   ],
   "metadata": {
    "collapsed": false,
    "pycharm": {
     "name": "#%%\n"
    }
   }
  },
  {
   "cell_type": "code",
   "execution_count": null,
   "outputs": [],
   "source": [
    "import numpy as np\n",
    "import math\n",
    "b=[3,4,9]\n",
    "for i in b:\n",
    "    print(math.sqrt(i))#常规开平方\n",
    "\n",
    "print(np.sqrt(b))#np开平方"
   ],
   "metadata": {
    "collapsed": false,
    "pycharm": {
     "name": "#%%\n"
    }
   }
  },
  {
   "cell_type": "code",
   "execution_count": null,
   "outputs": [],
   "source": [
    "import numpy as np\n",
    "#使用array创建一维数组\n",
    "a=np.array([1,2,3,4,5])\n",
    "#创建二维数组\n",
    "b=np.array([[1,2,3],[4,5,6]])\n",
    "\n",
    "print(a,type(a))\n",
    "print(b,type(b))\n",
    "#以此类推,不再列举\n",
    "#dtype指定数组类型,ndmin指定数组的维度\n",
    "b=np.array([[1,2,3],[4,5,6]],dtype=float,ndmin=2)\n",
    "print('\\n',b)"
   ],
   "metadata": {
    "collapsed": false,
    "pycharm": {
     "name": "#%%\n"
    }
   }
  },
  {
   "cell_type": "markdown",
   "source": [
    "## 随机数组"
   ],
   "metadata": {
    "collapsed": false
   }
  },
  {
   "cell_type": "code",
   "execution_count": null,
   "outputs": [],
   "source": [
    "import numpy as np\n",
    "#使用random创建,random创建0到1间数组,randint创建整数\n",
    "a=np.random.random(size=5)#一维长度为5的0到1间的小数(左开右闭)\n",
    "b=np.random.random(size=(3,4))#二维3行4列\n",
    "c=np.random.random(size=(2,3,4))#二维3行4列\n",
    "\n",
    "d=np.random.randint(2,18,size=(2,4),dtype=np.int64)#2行4列,2到18整数类型为int64,括号内参数可看情况删除\n",
    "\n",
    "print(a,type(a),'\\n')\n",
    "print(b,type(b))\n",
    "print(d,type(d))"
   ],
   "metadata": {
    "collapsed": false,
    "pycharm": {
     "name": "#%%\n"
    }
   }
  },
  {
   "cell_type": "code",
   "execution_count": null,
   "outputs": [],
   "source": [
    "#正态分布randn\n",
    "import numpy as np\n",
    "#使用random创建,random创建0到1间数组,randint创建整数\n",
    "a=np.random.randn(5)#一维长度为5,满足标准正态分布\n",
    "b=np.random.randn(3,4)#二维3行4列\n",
    "cc =np.random.randn(2,3,4)#三维两个3行4列\n",
    "d=np.random.normal(size=5)#默认期望loc=0.0 ,方差为scale=1.0\n",
    "e=np.random.normal(loc=2,scale=3,size=5)#默认期望loc=2 ,方差为scale=3\n",
    "print(a,type(a))\n",
    "print(b,type(b))\n",
    "print(d,type(d))"
   ],
   "metadata": {
    "collapsed": false,
    "pycharm": {
     "name": "#%%\n"
    }
   }
  },
  {
   "cell_type": "markdown",
   "source": [
    "### ndarray对象\n",
    "Numpy最重要的一个特点是其N维数组对象 ndarray,它是一系列同类型数据的集\n",
    "合，以0下标为开始进行集合中元素的索引。\n",
    "ndarray对象是用于存放同类型元素的多维数组\n",
    "ndarray中的每个元素在内存中都有相同存储大小的区域。\n",
    "ndarray内部由以下内容组成\n",
    "- 一个指向数据（内存或内存映射文件中的一块数据）的指针。\n",
    "- 数据类型或 dtype,描述在数组中的固定大小值的格子。\n",
    "- 一个表示数组形状( shape)的元组，表示各维度大小的元组。\n",
    "\n",
    "Numpy的数组中比较重要 ndarray对象属性有：\n",
    "\n",
    "|属性|说明|\n",
    "|:---|:----|\n",
    "|ndarray.ndim|秩，即轴的数量或维度的数量|\n",
    "|ndarray.shape|数组的维度，对于矩阵，n行m列\n",
    "ndarry.size|数组元素的总个数，相当于.shape中n*m的值\n",
    "ndarray.dtype|ndarry对象的元素类型\n",
    "ndarrav.itemsize|ndarry对象中每个元素的大小，以字节为单位\n",
    "ndarray.flags|ndarray对象的内存信息\n",
    "ndarray.real|ndarray元素的实部\n",
    "ndarrav.imag|ndarray元素的虚部,包含实际数组元素的缓冲区，由于一般通过数组的索引获取元素，所以通常不用"
   ],
   "metadata": {
    "collapsed": false
   }
  },
  {
   "cell_type": "code",
   "execution_count": 10,
   "outputs": [
    {
     "name": "stdout",
     "output_type": "stream",
     "text": [
      "ndim :  1 2\n",
      "shape :  (4,) (2, 3)\n",
      "dtipe : int32 int32\n",
      "size :  4 6\n",
      "itermsize :  4 4\n"
     ]
    }
   ],
   "source": [
    "import numpy as np\n",
    "a=np.array([1,2,3,4])#一维数组\n",
    "b=np.random.randint(4,10,size=(2,3))#二维数组\n",
    "print('ndim : ',a.ndim,b.ndim)#数组维度\n",
    "print('shape : ',a.shape,b.shape)#数组形状\n",
    "print('dtipe :',a.dtype,b.dtype)#数组类型\n",
    "print('size : ',a.size,b.size)#数组元素个数\n",
    "print('itermsize : ',a.itemsize,b.itemsize)#每个元素所占的字节"
   ],
   "metadata": {
    "collapsed": false,
    "pycharm": {
     "name": "#%%\n"
    }
   }
  },
  {
   "cell_type": "markdown",
   "source": [
    "### 其他方式创建数组\n",
    "\n",
    "|参数|描述|\n",
    "|:--:|:------|\n",
    "start|序列的起始值为：base来* start\n",
    "stop|序列的终止值为：base*stop。如果end@ point为tnue,该值包含于数列中\n",
    "num|要生成的等步长的样本数量，默认为50\n",
    "endpoint|该值为ture时，数列中中包含stop值，反之不包含，默认是 True\n",
    "base|对数log的底数。\n",
    "dtype|ndarray的数据类型\n",
    "np.zeros(shape, dtype=None, order='C', *args, **kwargs):零填充创建<br>\n",
    "np.ones(shape, dtype=None, order='C', *args, **kwargs):一填充创建<br>\n",
    "np.empty(shape, dtype=None, order='C', *args, **kwargs):开辟指定形状的数组空间(有值,值为上次用过的值)<br>\n",
    "np.linspace(始,末,个数):等差数列,linspace(start, stop, num=50, endpoint=True, retstep=False, dtype=None,\n",
    "             axis=0),endpoint是否要尾值,默认步长为50<br>\n",
    "d=np.logspace():等比数列\n",
    "\n",
    "#### 切片的使用 [行进行切片,列进行切片]"
   ],
   "metadata": {
    "collapsed": false,
    "pycharm": {
     "name": "#%% md\n"
    }
   }
  },
  {
   "cell_type": "code",
   "execution_count": 13,
   "outputs": [
    {
     "name": "stdout",
     "output_type": "stream",
     "text": [
      "[ 1.  4.  7. 10.]\n",
      "[  1.   2.   4.   8.  16.  32.  64. 128. 256. 512.]\n"
     ]
    }
   ],
   "source": [
    "import numpy as np\n",
    "a=np.zeros(2)#一维\n",
    "b=np.zeros((2,3))#二维,其他同类不再多说\n",
    "c=np.linspace(1,10,4)\n",
    "print(c)\n",
    "d=np.logspace(0,9,10,base=2)\n",
    "print(d)"
   ],
   "metadata": {
    "collapsed": false,
    "pycharm": {
     "name": "#%%\n"
    }
   }
  },
  {
   "cell_type": "code",
   "source": [
    "# 数组的切片\n",
    "import numpy as np\n",
    "#创建一维数组\n",
    "a=np.arange(10)\n",
    "print(a)\n",
    "#正索引访问  索引从0开始  长度-1\n",
    "print('索引0处的元素：',a[0])\n",
    "print('索引5处的元素：',a[5])\n",
    "\n",
    "#负索引访问  倒数第一个的索引为-1\n",
    "print('访问最后一个元素：',a[-1])\n",
    "print('访问倒数第三个元素：',a[-3])\n",
    "\n",
    "#切片正向索引操作  [start:stop:step]\n",
    "print(a[:])  #从开始到结尾\n",
    "print(a[3:]) #从索引3开始到结尾\n",
    "print(a[3:5]) #从索引3开始到索引4 [start,stop)结尾\n",
    "print(a[1:7:2]) #从索引1开始到索引6，步长是2\n",
    "\n",
    "#切片中负索引操作\n",
    "print(a[::-1])  #反向获取\n",
    "print(a[-5:-2])\n",
    "#导入numpy模块\n",
    "import numpy as np\n",
    "#创建一维数组\n",
    "a=np.arange(1,13)\n",
    "print(a)\n",
    "#对一维数组进行修改形状  (4,3)\n",
    "a=a.reshape((4,3))\n",
    "print(a)\n",
    "#索引的使用\n",
    "#获取第三行\n",
    "print(a[2])\n",
    "#获取第二行 第3列\n",
    "print(a[1][2])\n",
    "\n",
    "#切片的使用 [行进行切片,列进行切片]   [start:stop:step,start:stop:step]\n",
    "#获取所有行所有列\n",
    "print(a[:,:])\n",
    "#获取所有行部分列   所有行第2列\n",
    "print(a[:,1])\n",
    "#获取所有行部分列   所有行第1,2列\n",
    "print(a[:,0:2])\n",
    "\n",
    "#获取部分行 所有列  获取奇数行所有列\n",
    "print(a[::2,:])\n",
    "\n",
    "#获取部分行 部分列   获取奇数行  第1,2列\n",
    "print(a[::2,0:2])\n",
    "\n",
    "#坐标获取 [行,列]\n",
    "#获取第2行第3列的元素\n",
    "print(a[1][2])\n",
    "print(a[1,2])\n",
    "\n",
    "#同时获取不同行不同列   获取第2行第3列  第3行第1列\n",
    "print(a[1,2],a[2][0])\n",
    "print(np.array([a[1,2],a[2][0]]))#将获取第2行第3列  第3行第1列合并为一个数组\n",
    "#使用坐标\n",
    "print(a[(1,2),(2,0)])\n",
    "\n",
    "#负索引的使用\n",
    "print('最后一行')\n",
    "print(a[-1])\n",
    "print('行倒序')\n",
    "print(a[::-1])\n",
    "print('行列倒序')\n",
    "print(a[::-1,::-1])"
   ],
   "metadata": {
    "collapsed": false,
    "pycharm": {
     "name": "#%%\n"
    }
   },
   "execution_count": 15,
   "outputs": [
    {
     "name": "stdout",
     "output_type": "stream",
     "text": [
      "[0 1 2 3 4 5 6 7 8 9]\n",
      "索引0处的元素： 0\n",
      "索引5处的元素： 5\n",
      "访问最后一个元素： 9\n",
      "访问倒数第三个元素： 7\n",
      "[0 1 2 3 4 5 6 7 8 9]\n",
      "[3 4 5 6 7 8 9]\n",
      "[3 4]\n",
      "[1 3 5]\n",
      "[9 8 7 6 5 4 3 2 1 0]\n",
      "[5 6 7]\n",
      "[ 1  2  3  4  5  6  7  8  9 10 11 12]\n",
      "[[ 1  2  3]\n",
      " [ 4  5  6]\n",
      " [ 7  8  9]\n",
      " [10 11 12]]\n",
      "[7 8 9]\n",
      "6\n",
      "[[ 1  2  3]\n",
      " [ 4  5  6]\n",
      " [ 7  8  9]\n",
      " [10 11 12]]\n",
      "[ 2  5  8 11]\n",
      "[[ 1  2]\n",
      " [ 4  5]\n",
      " [ 7  8]\n",
      " [10 11]]\n",
      "[[1 2 3]\n",
      " [7 8 9]]\n",
      "[[1 2]\n",
      " [7 8]]\n",
      "6\n",
      "6\n",
      "6 7\n",
      "[6 7]\n",
      "[6 7]\n",
      "最后一行\n",
      "[10 11 12]\n",
      "行倒序\n",
      "[[10 11 12]\n",
      " [ 7  8  9]\n",
      " [ 4  5  6]\n",
      " [ 1  2  3]]\n",
      "行列倒序\n",
      "[[12 11 10]\n",
      " [ 9  8  7]\n",
      " [ 6  5  4]\n",
      " [ 3  2  1]]\n"
     ]
    }
   ]
  },
  {
   "cell_type": "code",
   "execution_count": 7,
   "outputs": [
    {
     "name": "stdout",
     "output_type": "stream",
     "text": [
      "[[ 1  2  3  4]\n",
      " [ 5  6  7  8]\n",
      " [ 9 10 11 12]]\n",
      "[[1 2]\n",
      " [5 6]]\n",
      "\n",
      " [[100   2   3   4]\n",
      " [  5   6   7   8]\n",
      " [  9  10  11  12]]\n",
      "\n",
      " [[100   2   3   4]\n",
      " [  5   6   7   8]\n",
      " [  9  10  11  12]]\n"
     ]
    }
   ],
   "source": [
    "#数组的复制\n",
    "import numpy as np\n",
    "a=np.arange(1,13).reshape((3,4))#改变数组维度,注意,3*4=12,拆分要满足元素个数这个潜在要求\n",
    "print(a)\n",
    "sub_a=a[:2,:2]\n",
    "print(sub_a)\n",
    "sub_a[0][0]=100\n",
    "print('\\n',a)#由此的切片获取的为浅拷贝,对浅拷贝得到的值修改会作用到原数组值上\n",
    "sub_a=np.copy(a[:2,:2])\n",
    "sub_a[0][0]=300\n",
    "print('\\n',a)#没影响原来数组的值"
   ],
   "metadata": {
    "collapsed": false,
    "pycharm": {
     "name": "#%%\n"
    }
   }
  },
  {
   "cell_type": "markdown",
   "source": [
    "__维度的修改:__俩种方法如下例题<br>\n",
    "\n",
    "除此之外,也可用resape,ravel,flatten转换为一维数组\n",
    "\n",
    "    reshape(a, newshape, order='C'):\n",
    "    \"\"\"\n",
    "    Gives a new shape to an array without changing its data.\n",
    "\n",
    "    Parameters\n",
    "    ----------\n",
    "    a : array_like\n",
    "        Array to be reshaped.\n",
    "    newshape : int or tuple of ints\n",
    "        The new shape should be compatible with the original shape. If\n",
    "        an integer, then the result will be a 1-D array of that length.\n",
    "        One shape dimension can be -1. In this case, the value is\n",
    "        inferred from the length of the array and remaining dimensions.\n",
    "    order : {'C', 'F', 'A'},可选的,使用此索引顺序读取 `a` 的元素，并使用此索\n",
    "        引顺序将元素放入重构的数组中。 'C' 表示使用类似 C 的索引顺序读写元素，最后一个轴索\n",
    "        引变化最快，回到第一个轴索引变化最慢。 'F' 表示使用类似 Fortran 的索引顺序读写元素\n",
    "        ，第一个索引变化最快，最后一个索引变化最慢。请注意，'C' 和 'F' 选项没有考虑底层数组\n",
    "        的内存布局，只涉及索引的顺序。如果`a` 在内存中是Fortran 连续的，则'A' 表示以类似\n",
    "        Fortran 的索引顺序读写元素，否则按照类似C 的顺序进行读写。"
   ],
   "metadata": {
    "collapsed": false,
    "pycharm": {
     "name": "#%% md\n"
    }
   }
  },
  {
   "cell_type": "code",
   "execution_count": 21,
   "outputs": [
    {
     "name": "stdout",
     "output_type": "stream",
     "text": [
      "[ 0  1  2  3  4  5  6  7  8  9 10 11 12 13 14 15]\n",
      "[[ 0  1  2  3  4  5  6  7]\n",
      " [ 8  9 10 11 12 13 14 15]]\n",
      "[[ 0  1  2  3]\n",
      " [ 4  5  6  7]\n",
      " [ 8  9 10 11]\n",
      " [12 13 14 15]]\n"
     ]
    }
   ],
   "source": [
    "import numpy as np\n",
    "aa=np.arange(16)\n",
    "print(aa)\n",
    "b=aa.reshape((2,8))\n",
    "print(b)\n",
    "b=np.reshape(aa,(4,4))\n",
    "print(b)"
   ],
   "metadata": {
    "collapsed": false,
    "pycharm": {
     "name": "#%%\n"
    }
   }
  },
  {
   "cell_type": "markdown",
   "source": [
    "#### 数组的拼接\n",
    "\n",
    "np.vstack(()):垂直拼接<br>\n",
    "np.hstack(()):水平拼接<br>\n",
    "np.concatenate(()):延轴拼接,几维有几个轴,默认axis为0,(请类比空间直角坐标系x0y1z2轴,0为纵向1为水平)"
   ],
   "metadata": {
    "collapsed": false,
    "pycharm": {
     "name": "#%% md\n"
    }
   }
  },
  {
   "cell_type": "code",
   "execution_count": 43,
   "outputs": [
    {
     "name": "stdout",
     "output_type": "stream",
     "text": [
      "a:\n",
      " [[ 0  1  2  3]\n",
      " [ 4  5  6  7]\n",
      " [ 8  9 10 11]] \n",
      "b:\n",
      " [[ 8  9 10 11]\n",
      " [ 4  5  6  7]\n",
      " [ 0  1  2  3]]\n",
      "r:\n",
      " [[ 0  1  2  3]\n",
      " [ 4  5  6  7]\n",
      " [ 8  9 10 11]\n",
      " [ 8  9 10 11]\n",
      " [ 4  5  6  7]\n",
      " [ 0  1  2  3]] \n",
      "p:\n",
      " [[ 0  1  2  3  8  9 10 11]\n",
      " [ 4  5  6  7  4  5  6  7]\n",
      " [ 8  9 10 11  0  1  2  3]]\n",
      "q:\n",
      " [[ 0  1  2  3]\n",
      " [ 4  5  6  7]\n",
      " [ 8  9 10 11]\n",
      " [ 8  9 10 11]\n",
      " [ 4  5  6  7]\n",
      " [ 0  1  2  3]]\n"
     ]
    }
   ],
   "source": [
    "import  numpy as np\n",
    "\n",
    "a=np.arange(12).reshape(3,4)\n",
    "b=np.arange(12).reshape(3,4)[::-1]\n",
    "print('a:\\n',a,'\\nb:\\n',b)\n",
    "r=np.vstack((a,b))\n",
    "p=np.hstack((a,b))\n",
    "print('r:\\n',r,'\\np:\\n',p)\n",
    "q=np.concatenate((a,b),axis=0)\n",
    "print('q:\\n',q)"
   ],
   "metadata": {
    "collapsed": false,
    "pycharm": {
     "name": "#%%\n"
    }
   }
  },
  {
   "cell_type": "markdown",
   "source": [
    "#### 数组的分割\n",
    " - split(ary, indices_or_sections, axis=0)<br>\n",
    "     - 多维会延轴分割,几维有几个轴,默认axis为0,(请类比空间直角坐标系x0y1z2轴,0为纵向1为水平),\n",
    "     - indices_or_sections为平均分割的份数,为数字时为平均分割,为[3]等列表时为按位置分割\n",
    " - hsplit:水平分割(h表示行)\n",
    " - vsplit:垂直分割\n",
    "\n",
    "#### 数组转置\n",
    " transpose(a, axes=None)用法:\n",
    " 1. a=数组.transpose()\n",
    " 2. a=np.transpose(数组,维度)#维度这是一个元组\n",
    "\n",
    "三维(i,j,k)转置默认为(k,j,i)"
   ],
   "metadata": {
    "collapsed": false,
    "pycharm": {
     "name": "#%% md\n"
    }
   }
  },
  {
   "cell_type": "code",
   "execution_count": 13,
   "outputs": [
    {
     "name": "stdout",
     "output_type": "stream",
     "text": [
      "[array([0, 1, 2, 3]), array([4, 5, 6, 7]), array([ 8,  9, 10, 11]), array([12, 13, 14, 15])]\n",
      "[None, None, None, None, None, None, None, None, None, None, None, None, None, None, None, None]\n",
      "[0, 1, 2, 3, 4, 5, 6, 7, 8, 9, 10, 11, 12, 13, 14, 15]\n",
      "[[ 0  8]\n",
      " [ 1  9]\n",
      " [ 2 10]\n",
      " [ 3 11]\n",
      " [ 4 12]\n",
      " [ 5 13]\n",
      " [ 6 14]\n",
      " [ 7 15]]\n"
     ]
    }
   ],
   "source": [
    "#一维\n",
    "import numpy as np\n",
    "a=np.arange(0,16)\n",
    "a=np.split(a,4)\n",
    "b=np.arange(0,16)\n",
    "print(a)\n",
    "\n",
    "c=[]\n",
    "d=[]\n",
    "c=[c.append(i) for i in b]#并没有传值进去\n",
    "for i in b:\n",
    "    d.append(i)\n",
    "print(c)\n",
    "print(d)\n",
    "\n",
    "aa=np.reshape(b,(2,8))\n",
    "a=aa.transpose()\n",
    "print(a)"
   ],
   "metadata": {
    "collapsed": false,
    "pycharm": {
     "name": "#%%\n"
    }
   }
  },
  {
   "cell_type": "markdown",
   "source": [
    "#### numpy函数"
   ],
   "metadata": {
    "collapsed": false,
    "pycharm": {
     "name": "#%% md\n"
    }
   }
  },
  {
   "cell_type": "code",
   "execution_count": null,
   "outputs": [],
   "source": [
    "#导入numpy\n",
    "import numpy as np\n",
    "a=np.arange(9).reshape(3,3)\n",
    "b=np.array([10,10,10])\n",
    "print('加法')\n",
    "print(np.add(a,b))\n",
    "print(a+b)\n",
    "print('减法')\n",
    "print(np.subtract(b,a))\n",
    "print(b-a)\n",
    "\n",
    "#out参数的使用\n",
    "y=np.empty((3,3),dtype=np.int)\n",
    "np.multiply(a,10,out=y)\n",
    "print(y)\n",
    "\n",
    "#三角函数\n",
    "a=np.array([0,30,60,90])\n",
    "print(np.sin(a))\n",
    "\n",
    "#around ceil floor\n",
    "a = np.array([1.0,4.55,  123,  0.567,  25.332])\n",
    "print('around:',np.around(a))\n",
    "print('ceil:',np.ceil(a))\n",
    "print('floor:',np.floor(a))\n",
    "\n",
    "#统计函数\n",
    "# power()\n",
    "a=np.arange(1,13).reshape(3,4)\n",
    "print('原数组a')\n",
    "print(a)\n",
    "print('power:',np.power(a,2))\n",
    "\n",
    "#power中out的使用\n",
    "x=np.arange(5)\n",
    "y=np.zeros(10)\n",
    "np.power(2,x,out=y[:5])\n",
    "print(y)\n",
    "\n",
    "#  median ()\n",
    "#一维数组的中位数\n",
    "a=np.array([4,3,2,5,2,1]) #对数组排序 [1,2,2,3,4,5]  数组中元素个数为偶数 中位数指：中间两个数的平均值\n",
    "print(np.median(a))\n",
    "\n",
    "a=np.array([4,3,2,5,2]) #对数组排序 [2,2,3,4,5]  数组中元素个数为奇数 中位数指：中间的数\n",
    "print(np.median(a))\n",
    "\n",
    "#二维数组  要通过axis指定轴\n",
    "a=np.arange(1,13).reshape(3,4)\n",
    "print(a)\n",
    "print('垂直方向 ',np.median(a,axis=0))\n",
    "print('水平方向 ',np.median(a,axis=1))\n",
    "\n",
    "#mean 求平均值\n",
    "#一维数组\n",
    "a=np.array([4,3,2,5,2])\n",
    "print(np.mean(a))\n",
    "#二维数组   axis指定轴求平均\n",
    "a=np.arange(1,13).reshape(3,4)\n",
    "print(a)\n",
    "print('axis=0 垂直方向',np.mean(a,axis=0))\n",
    "print('axis=1 水平方向',np.mean(a,axis=1))\n",
    "\n",
    "#sum()  max()  min()\n",
    "a=np.array([4,3,2,5,2])\n",
    "print('max:',np.max(a))\n",
    "print('sum:',np.sum(a))\n",
    "print('min:',np.min(a))\n",
    "\n",
    "#argmax argmin\n",
    "print('argmin:',np.argmin(a))\n",
    "print('argmax:',np.argmax(a))\n",
    "\n",
    "\n"
   ],
   "metadata": {
    "collapsed": false,
    "pycharm": {
     "name": "#%%\n"
    }
   }
  },
  {
   "cell_type": "code",
   "execution_count": null,
   "outputs": [],
   "source": [],
   "metadata": {
    "collapsed": false,
    "pycharm": {
     "name": "#%%\n"
    }
   }
  }
 ],
 "metadata": {
  "kernelspec": {
   "display_name": "Python 3 (ipykernel)",
   "language": "python",
   "name": "python3"
  },
  "language_info": {
   "codemirror_mode": {
    "name": "ipython",
    "version": 3
   },
   "file_extension": ".py",
   "mimetype": "text/x-python",
   "name": "python",
   "nbconvert_exporter": "python",
   "pygments_lexer": "ipython3",
   "version": "3.9.5"
  },
  "nbTranslate": {
   "displayLangs": [
    "*"
   ],
   "hotkey": "alt-t",
   "langInMainMenu": true,
   "sourceLang": "en",
   "targetLang": "fr",
   "useGoogleTranslate": true
  }
 },
 "nbformat": 4,
 "nbformat_minor": 1
}