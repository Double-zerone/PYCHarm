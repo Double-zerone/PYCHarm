{
 "cells": [
  {
   "cell_type": "markdown",
   "metadata": {},
   "source": [
    "## 进制"
   ]
  },
  {
   "cell_type": "markdown",
   "metadata": {
    "collapsed": true,
    "pycharm": {
     "is_executing": true
    }
   },
   "source": [
    "    十进制:1-9    二进制:0,1   十六进制:1-9,A,B,C,D,E,F\n",
    "十进制转换为其他进制"
   ]
  },
  {
   "cell_type": "code",
   "execution_count": 1,
   "metadata": {
    "scrolled": false
   },
   "outputs": [
    {
     "name": "stdout",
     "output_type": "stream",
     "text": [
      "二进制num: 0b1111011         类型: <class 'str'>\n",
      "八进制num: 0o173             类型: <class 'str'>\n",
      "十六进制num: 0x7b            类型: <class 'str'>\n",
      "十进制num: 123               类型: <class 'int'>\n"
     ]
    }
   ],
   "source": [
    "num=123\n",
    "print('二进制num:',bin(num),'        类型:',type(bin(num)))\n",
    "print('八进制num:',oct(num),'            类型:',type(oct(num)))\n",
    "print('十六进制num:',hex(num),'           类型:',type(hex(num)))\n",
    "print('十进制num:',num,'              类型:',type(num))"
   ]
  },
  {
   "cell_type": "markdown",
   "metadata": {},
   "source": [
    "其他进制转十进制: num=int('转换对象',进制类型)"
   ]
  },
  {
   "cell_type": "code",
   "execution_count": 2,
   "metadata": {},
   "outputs": [
    {
     "name": "stdout",
     "output_type": "stream",
     "text": [
      "123 <class 'str'>\n"
     ]
    }
   ],
   "source": [
    "num=\"0b1111011\"\n",
    "print(int(num,2),type(num))"
   ]
  },
  {
   "cell_type": "markdown",
   "metadata": {},
   "source": [
    "__机器数__:一个数在计算机中的二进制表示形式，叫做这个数的机器数。机器数是带符号的，在计算机用一个数的最\n",
    "高位存放符号，正数为0，负数为1.\n",
    "\n",
    "__真值__:机器数的第一位是符号位，后边才是真正的数值，所以机器数的形式值就不等于真正的数值。\n",
    "\n",
    "__原码__:原码就是符号位加上真值的绝对值，即用第一位表示符号，其余位表示值\n",
    "\n",
    "__反码__:反码的表示方法是: 正数的反码是其本身，负数的反码是在其原码的基础上，符号位不变，其余各个位取反。\n",
    "\n",
    "__补码__:补码的表示方法是：正数的补码就是其本身，负数的补码是在其原码的基础上，符号位不变，其余各位取反，\n",
    "最后+1 (即在反码的基础上+1)。\n",
    "\n",
    "http://www.itheima.com/news/20200116/103436.html"
   ]
  },
  {
   "cell_type": "markdown",
   "metadata": {},
   "source": [
    "### 属性私有化"
   ]
  },
  {
   "cell_type": "markdown",
   "metadata": {},
   "source": [
    "    XX            普通变量 \n",
    "    _XX           此类变量用from import *无法使用\n",
    "    __ XX         私有属性/私有方法,只能在类内使用,名字重整为_Persion__age,也就是_类名__方法名,但不建议类外(_类名__属性(方法)名)直接调用\n",
    "    __ XX__       魔法方法,不用调用,系统默认调用,自定义方法要避免和魔法方法重名\n",
    "    XX__          用来区分重名变量名/方法\n",
    "    \n",
    " 与类和实例无绑定关系的function都属于函数（function）；\n",
    "与类和实例有绑定关系的function都属于方法（method)  \n",
    "简单的说，函数在python中独立存在，可直接使用的，而方法是必须被别人调用才能实现的。\n",
    "静态方法除外（与类和对象均无关，通过类名和对象名均可被调用，属函数）"
   ]
  },
  {
   "cell_type": "code",
   "execution_count": 3,
   "metadata": {},
   "outputs": [
    {
     "name": "stdout",
     "output_type": "stream",
     "text": [
      "3.14\n"
     ]
    }
   ],
   "source": [
    "from TestModulel1 import *  #TestModulel1为我们自己写的一个py模块,内容为Pi=3.14和_Pi=3.1415\n",
    "print(Pi)"
   ]
  },
  {
   "cell_type": "code",
   "execution_count": 4,
   "metadata": {},
   "outputs": [
    {
     "name": "stdout",
     "output_type": "stream",
     "text": [
      "3.1415\n"
     ]
    }
   ],
   "source": [
    "import TestModulel1 \n",
    "print(TestModulel1._Pi)"
   ]
  },
  {
   "cell_type": "code",
   "execution_count": 5,
   "metadata": {},
   "outputs": [
    {
     "ename": "NameError",
     "evalue": "name '_Pi' is not defined",
     "output_type": "error",
     "traceback": [
      "\u001b[1;31m---------------------------------------------------------------------------\u001b[0m",
      "\u001b[1;31mNameError\u001b[0m                                 Traceback (most recent call last)",
      "\u001b[1;32m~\\AppData\\Local\\Temp/ipykernel_21480/4279045200.py\u001b[0m in \u001b[0;36m<module>\u001b[1;34m\u001b[0m\n\u001b[0;32m      1\u001b[0m \u001b[1;32mfrom\u001b[0m \u001b[0mTestModulel1\u001b[0m \u001b[1;32mimport\u001b[0m \u001b[1;33m*\u001b[0m  \u001b[1;31m#TestModulel1为我们自己写的一个py模块,内容为Pi=3.14,可以看到加_后报错了\u001b[0m\u001b[1;33m\u001b[0m\u001b[1;33m\u001b[0m\u001b[0m\n\u001b[1;32m----> 2\u001b[1;33m \u001b[0mprint\u001b[0m\u001b[1;33m(\u001b[0m\u001b[0m_Pi\u001b[0m\u001b[1;33m)\u001b[0m\u001b[1;33m\u001b[0m\u001b[1;33m\u001b[0m\u001b[0m\n\u001b[0m",
      "\u001b[1;31mNameError\u001b[0m: name '_Pi' is not defined"
     ]
    }
   ],
   "source": [
    "from TestModulel1 import *  #TestModulel1为我们自己写的一个py模块,内容为Pi=3.14,可以看到加_后报错了\n",
    "print(_Pi)"
   ]
  },
  {
   "cell_type": "code",
   "execution_count": 6,
   "metadata": {},
   "outputs": [
    {
     "name": "stdout",
     "output_type": "stream",
     "text": [
      "['_Persion__age', '__class__', '__delattr__', '__dict__', '__dir__', '__doc__', '__eq__', '__format__', '__ge__', '__getattribute__', '__gt__', '__hash__', '__init__', '__init_subclass__', '__le__', '__lt__', '__module__', '__ne__', '__new__', '__reduce__', '__reduce_ex__', '__repr__', '__setattr__', '__sizeof__', '__str__', '__subclasshook__', '__weakref__', 'name', 'showInfo']\n",
      "name:张博智  age:19\n",
      "_Persion__age: 19\n"
     ]
    }
   ],
   "source": [
    "class Persion():\n",
    "    def __init__(self,name,age):\n",
    "        self.name = name\n",
    "        self.__age=age\n",
    "    def showInfo(self):\n",
    "        print(\"name:%s  age:%d\"%(self.name,self.__age))#双下划线,名字重整为_Persion__age,也就是_类名__方法名\n",
    "        \n",
    "    \n",
    "P = Persion('张博智',19)  # 报错:未解析的引用\n",
    "print(dir(P))\n",
    "P.showInfo()\n",
    "print(\"_Persion__age:\",P._Persion__age)"
   ]
  },
  {
   "cell_type": "markdown",
   "metadata": {},
   "source": [
    "### property的使用\n",
    "私有属性,提供开放接口供外界访问"
   ]
  },
  {
   "cell_type": "code",
   "execution_count": 7,
   "metadata": {},
   "outputs": [
    {
     "name": "stdout",
     "output_type": "stream",
     "text": [
      "初始值: 18\n",
      "常规方法调用: 17\n",
      "proport合成 17\n"
     ]
    }
   ],
   "source": [
    "class Student():\n",
    "    def __init__(self,name,age):\n",
    "        self.name = name\n",
    "        self.__age=age\n",
    "    def getAge(self):\n",
    "        return self.__age\n",
    "    def setAge(self,age):\n",
    "        if isinstance(age,int):\n",
    "            self.__age=age\n",
    "        else:\n",
    "            raise TypeError('类型有误')\n",
    "    age =property(getAge,setAge)\n",
    "\n",
    "stul=Student(\"张强\",18)\n",
    "print(\"初始值:\",stul.age)\n",
    "stul.setAge(17)\n",
    "print(\"常规方法调用:\",stul.getAge())#函数加括号是指对此函数的调用，函数不加括号是指调用函数本身（的内存地址）\n",
    "stul.age\n",
    "print(\"proport合成\",stul.age)\n"
   ]
  },
  {
   "cell_type": "markdown",
   "metadata": {},
   "source": [
    "@property和@属性.XXX取代方法"
   ]
  },
  {
   "cell_type": "code",
   "execution_count": 8,
   "metadata": {},
   "outputs": [
    {
     "name": "stdout",
     "output_type": "stream",
     "text": [
      "100\n"
     ]
    }
   ],
   "source": [
    "class Student():\n",
    "    def __init__(self):\n",
    "        self.__age=0\n",
    "    @property\n",
    "    def getAge(self):\n",
    "        return self.__age\n",
    "    @getAge.setter\n",
    "    def setAge(self,age):\n",
    "        if isinstance(age,int):\n",
    "            self.__age=age\n",
    "        else:\n",
    "            raise TypeError('类型有误')\n",
    "m=Student()\n",
    "m.age=100\n",
    "print(m.age)"
   ]
  }
 ],
 "metadata": {
  "celltoolbar": "原始单元格格式",
  "kernelspec": {
   "display_name": "Python 3 (ipykernel)",
   "language": "python",
   "name": "python3"
  },
  "language_info": {
   "codemirror_mode": {
    "name": "ipython",
    "version": 3
   },
   "file_extension": ".py",
   "mimetype": "text/x-python",
   "name": "python",
   "nbconvert_exporter": "python",
   "pygments_lexer": "ipython3",
   "version": "3.9.5"
  },
  "nbTranslate": {
   "displayLangs": [
    "*"
   ],
   "hotkey": "alt-t",
   "langInMainMenu": true,
   "sourceLang": "en",
   "targetLang": "fr",
   "useGoogleTranslate": true
  },
  "widgets": {
   "application/vnd.jupyter.widget-state+json": {
    "state": {},
    "version_major": 2,
    "version_minor": 0
   }
  }
 },
 "nbformat": 4,
 "nbformat_minor": 1
}
