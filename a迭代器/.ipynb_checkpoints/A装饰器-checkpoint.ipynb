{
 "cells": [
  {
   "cell_type": "markdown",
   "id": "f3992b5b",
   "metadata": {
    "pycharm": {
     "name": "#%% md\n"
    }
   },
   "source": [
    "# 实验\n",
    "   ## 迭代器\n",
    "### 用for对数据做迭代"
   ]
  },
  {
   "cell_type": "code",
   "execution_count": 16,
   "id": "3ee872f5",
   "metadata": {
    "pycharm": {
     "name": "#%%\n"
    }
   },
   "outputs": [
    {
     "name": "stdout",
     "output_type": "stream",
     "text": [
      "(1, 'p', 4, 'a', 'B')\n",
      "(2, 'y', 5, 'b', 'C')\n",
      "(3, '3', 6, 'c', 'A')\n"
     ]
    }
   ],
   "source": [
    "List = [1, 2, 3]\n",
    "Str = \"py3\"\n",
    "Tuple = (4, 5, 6, 7)\n",
    "Dict = {'a': 1, 'b': 2, 'c': 3}\n",
    "Set = {\"A\", \"B\", \"C\"}  #集合\n",
    "for i in zip(List, Str, Tuple, Dict, Set):\n",
    "    print(i)"
   ]
  },
  {
   "cell_type": "markdown",
   "id": "c42e4aac",
   "metadata": {
    "pycharm": {
     "name": "#%% md\n"
    }
   },
   "source": [
    "### 可迭代对象"
   ]
  },
  {
   "cell_type": "code",
   "execution_count": 17,
   "id": "3219f4b7",
   "metadata": {
    "pycharm": {
     "name": "#%%\n"
    }
   },
   "outputs": [
    {
     "name": "stdout",
     "output_type": "stream",
     "text": [
      "list: True\n"
     ]
    }
   ],
   "source": [
    "List = [1, 2, 3]\n",
    "from collections.abc import Iterable\n",
    "\n",
    "print(\"list:\", isinstance(List, Iterable))  #判断是否为可迭代对象"
   ]
  },
  {
   "cell_type": "markdown",
   "id": "da50dc11",
   "metadata": {
    "pycharm": {
     "name": "#%% md\n"
    }
   },
   "source": [
    "### 实现一个可迭代对象"
   ]
  },
  {
   "cell_type": "code",
   "execution_count": 18,
   "id": "af05194c",
   "metadata": {
    "pycharm": {
     "name": "#%%\n"
    }
   },
   "outputs": [
    {
     "name": "stdout",
     "output_type": "stream",
     "text": [
      "1\n",
      "2\n",
      "3\n"
     ]
    }
   ],
   "source": [
    "class Iter_obj():\n",
    "    def __init__(self, value):  #初始化\n",
    "        self.value = value\n",
    "\n",
    "    def __iter__(self):  #转化生成可迭代对象\n",
    "        self.index = 3\n",
    "        return iter(self.value[:self.index])\n",
    "\n",
    "    def __getitem__(self):\n",
    "        pass\n",
    "\n",
    "\n",
    "l = Iter_obj([1, 2, 3, 4, 9, 87, 4])\n",
    "for i in l:\n",
    "    print(i)"
   ]
  },
  {
   "cell_type": "markdown",
   "id": "7709a5d1",
   "metadata": {
    "pycharm": {
     "name": "#%% md\n"
    }
   },
   "source": [
    "### for循环中的迭代器对象"
   ]
  },
  {
   "cell_type": "code",
   "execution_count": 19,
   "id": "923e8337",
   "metadata": {
    "pycharm": {
     "name": "#%%\n"
    }
   },
   "outputs": [
    {
     "name": "stdout",
     "output_type": "stream",
     "text": [
      "1\n",
      "2\n",
      "3\n"
     ]
    }
   ],
   "source": [
    "i = [1, 2, 3]\n",
    "l = iter(i)\n",
    "for i in l:\n",
    "    print(i)\n",
    "for i in l:\n",
    "    print(i)  #迭代器会逐个吐值自前向后,吐完不回退,故第二次不输出1,2,3"
   ]
  },
  {
   "cell_type": "markdown",
   "id": "b9abeac8",
   "metadata": {
    "pycharm": {
     "name": "#%% md\n"
    }
   },
   "source": [
    "### next\n",
    "上面代码加next会报错(__next__返回容器下一个元素无后续元素抛出Stoplteration异常)"
   ]
  },
  {
   "cell_type": "markdown",
   "id": "663409f8",
   "metadata": {
    "pycharm": {
     "name": "#%% md\n"
    }
   },
   "source": [
    "## 生成器\n",
    "1.用yield关键字构建一个生成器\n",
    "\n",
    "        生成器(generator):一类特殊的迭代器(不会将所有数据加在内存里)\n",
    "        生成器每次在迭代时可以返回一个或多个值,记录当前状态\n",
    "\n",
    "        生成器取值\n",
    "        next和send:next去取下一个元素\n",
    "                   send取下一个值,同时可以向生成器中传递一个值\n",
    "                   next等同于send(none),第一次取值需要用next或send(None)\n",
    "        2用生成器表达式(推导式)   G=(x*2 for x in range(5))"
   ]
  },
  {
   "cell_type": "code",
   "execution_count": 1,
   "id": "94cdc157",
   "metadata": {
    "pycharm": {
     "name": "#%%\n"
    }
   },
   "outputs": [
    {
     "data": {
      "text/plain": "generator"
     },
     "execution_count": 1,
     "metadata": {},
     "output_type": "execute_result"
    }
   ],
   "source": [
    "def fib(n):\n",
    "    current = 0\n",
    "    num1, num2 = 0, 1\n",
    "    while current < n:\n",
    "        num = num1\n",
    "        num1.num2 = num2, num1 + num2\n",
    "        current += 1\n",
    "        yield num\n",
    "    return \"done\"\n",
    "\n",
    "\n",
    "g = fib(5)\n",
    "type(g)"
   ]
  },
  {
   "cell_type": "code",
   "execution_count": 21,
   "id": "3605ef69",
   "metadata": {
    "pycharm": {
     "name": "#%%\n"
    }
   },
   "outputs": [
    {
     "name": "stdout",
     "output_type": "stream",
     "text": [
      "0\n",
      "1\n",
      "1\n",
      "2\n",
      "3\n"
     ]
    }
   ],
   "source": [
    "def fib(n):  # 斐波那契额数列\n",
    "    current = 0\n",
    "    num1, num2 = 0, 1\n",
    "    while current < n:\n",
    "        num = num1\n",
    "        num1, num2 = num2, num1 + num2\n",
    "        current += 1\n",
    "        yield num  # yield执行过程 当程序执行到yield处时,生成器暂停返回当前值,等待下一次唤醒(next,sed)\n",
    "    return 'done'\n",
    "\n",
    "\n",
    "g = fib(5)\n",
    "for i in range(4):\n",
    "    print(next(g))\n",
    "print(g.send(None))"
   ]
  },
  {
   "cell_type": "markdown",
   "id": "1c02c7a7",
   "metadata": {
    "pycharm": {
     "name": "#%% md\n"
    }
   },
   "source": [
    "## 装饰器\n",
    "### 闭包\n",
    "    闭包:函数机器相关引用环境组合成的实体\n",
    "    闭包中不可以直接修改外部函数的局部变量\n",
    "    类似不能在函数中修改全局变量,需要关键字nonlocal\n",
    "        闭包作用: 闭包执行完后仍能保持当前内部环境,不会修改外部变量\n",
    "                 闭包可根据外部作用域变量来得到不同的结果\n",
    "        https://www.runoob.com/w3cnote/python-func-decorators.html\n",
    "\n",
    "    wraps:为保留因装饰器丢失信息而提供的装饰器"
   ]
  },
  {
   "cell_type": "code",
   "execution_count": 22,
   "id": "2bbc4865",
   "metadata": {
    "pycharm": {
     "name": "#%%\n"
    },
    "scrolled": true
   },
   "outputs": [
    {
     "name": "stdout",
     "output_type": "stream",
     "text": [
      "12\n",
      "12\n",
      "12\n",
      "12\n",
      "12\n"
     ]
    }
   ],
   "source": [
    "def func():\n",
    "    temp = [lambda x: x * i for i in range(5)]\n",
    "    return temp\n",
    "\n",
    "for i in func():\n",
    "    print(i(3))  #[x*i,x*i,x*i]"
   ]
  },
  {
   "cell_type": "markdown",
   "id": "2e75eec9",
   "metadata": {
    "pycharm": {
     "name": "#%% md\n"
    }
   },
   "source": [
    "### 装饰器"
   ]
  },
  {
   "cell_type": "markdown",
   "id": "45ec8329",
   "metadata": {},
   "source": [
    "函数前加上 @decorator 相当于在定义函数后执行了一条语句， say_hello = decorator(say_hello),则decorator为set_hello的装饰器"
   ]
  },
  {
   "cell_type": "code",
   "execution_count": 23,
   "id": "a2cba1f8",
   "metadata": {
    "pycharm": {
     "name": "#%%\n"
    }
   },
   "outputs": [
    {
     "name": "stdout",
     "output_type": "stream",
     "text": [
      "耗时:2.0043673515319824秒\n"
     ]
    }
   ],
   "source": [
    "import time\n",
    "def func(f, *args, **kwargs):  #计时器\n",
    "    def inner(*args, **kwargs):  # cls为类,args是一个数组，kwargs一个字典\n",
    "        start_time = time.time()\n",
    "        f(*args, **kwargs)\n",
    "        end_time = time.time()\n",
    "        print(\"耗时:%s秒\" % (end_time - start_time))\n",
    "\n",
    "    return inner\n",
    "@func\n",
    "\n",
    "def test():\n",
    "    time.sleep(2)\n",
    "test()"
   ]
  },
  {
   "cell_type": "markdown",
   "id": "d237a5e2",
   "metadata": {
    "pycharm": {
     "name": "#%% md\n"
    }
   },
   "source": [
    "### 用装饰器\n",
    "##### 装饰器的统一模板"
   ]
  },
  {
   "cell_type": "code",
   "execution_count": 24,
   "id": "7304d438",
   "metadata": {},
   "outputs": [],
   "source": [
    "from functools import wraps\n",
    "# 对函数的装饰器， 对类func最好为cls\n",
    "def decorate(func):\n",
    "    @wraps(func)\n",
    "    # 增添或修改功能的函数\n",
    "    def wrapper(*args,**kwargs):\n",
    "                # 执行被装饰的函数\n",
    "        result = func(*args,**kwargs) \n",
    "        # 返回结果\n",
    "        return result\n",
    "    # 返回内层函数\n",
    "    return wrapper"
   ]
  },
  {
   "cell_type": "markdown",
   "id": "a80043e5",
   "metadata": {},
   "source": [
    "wraps可以保证装饰器修饰的函数的__name__的值保持不变"
   ]
  },
  {
   "cell_type": "code",
   "execution_count": 25,
   "id": "f9fd9b4c",
   "metadata": {},
   "outputs": [
    {
     "name": "stdout",
     "output_type": "stream",
     "text": [
      "我是： test\n",
      "我是1： foo\n",
      "我是2： test2\n"
     ]
    }
   ],
   "source": [
    "def is_login(func):\n",
    "    def foo(*args,**kwargs):\n",
    "        return func(*args,**kwargs)\n",
    "    return foo\n",
    "\n",
    "def test():\n",
    "    print('我是：',test.__name__)\n",
    "\n",
    "@is_login\n",
    "def test1():\n",
    "    print('我是1：',test1.__name__)\n",
    "test()\n",
    "test1()\n",
    "def is_login1(func):\n",
    "    @wraps(func)\n",
    "    def foo(*args,**kwargs):\n",
    "        return func(*args,**kwargs)\n",
    "    return foo\n",
    "\n",
    "@is_login1\n",
    "def test2():\n",
    "    print('我是2：',test2.__name__)\n",
    "\n",
    "test2()\n"
   ]
  },
  {
   "cell_type": "code",
   "execution_count": 26,
   "id": "850b150a",
   "metadata": {
    "pycharm": {
     "name": "#%%\n"
    }
   },
   "outputs": [
    {
     "name": "stdout",
     "output_type": "stream",
     "text": [
      "获得神光棒x1\n",
      "我是某胜利队队员大骨\n",
      "可~,n我是光之巨人\n",
      "\n",
      "我是某胜利队队员大骨\n",
      "Help on function person in module __main__:\n",
      "\n",
      "person()\n",
      "    呵呵哈哈哈或或\n",
      "\n"
     ]
    }
   ],
   "source": [
    "from functools import wraps\n",
    "\n",
    "def light(func):\n",
    "    print(\"获得神光棒x1\")\n",
    "    #这是注释\n",
    "\n",
    "    '''加了wraps\n",
    "    Help on function person in module __main__:\n",
    "\n",
    "person()\n",
    "    呵呵哈哈哈或或\n",
    "\n",
    "不加\n",
    "    Help on function tiga in module __main__:\n",
    "\n",
    "    tiga()\n",
    "    #@wraps(func)\n",
    "\n",
    "    '''\n",
    "\n",
    "    @wraps(func)#@wraps可以保证装饰器修饰的函数的__name__的值保持不变\n",
    "    def tiga(*args, **kwargs):  # cls为类,args是一个数组，kwargs一个字典\n",
    "        func()\n",
    "        print(\"可~,n我是光之巨人\\n\")\n",
    "\n",
    "    return tiga\n",
    "@light\n",
    "\n",
    "def person():\n",
    "    \"\"\"呵呵哈哈哈或或\"\"\"\n",
    "    print(\"我是某胜利队队员大骨\")\n",
    "\n",
    "person()  #用装饰器\n",
    "dagu = person.__wrapped__  #解除装饰器\n",
    "dagu()\n",
    "help(person)"
   ]
  },
  {
   "cell_type": "markdown",
   "id": "884cbf3c",
   "metadata": {
    "pycharm": {
     "name": "#%% md\n"
    }
   },
   "source": [
    "###  用函数嵌套"
   ]
  },
  {
   "cell_type": "code",
   "execution_count": 27,
   "id": "faf57746",
   "metadata": {
    "pycharm": {
     "name": "#%%\n"
    }
   },
   "outputs": [
    {
     "name": "stdout",
     "output_type": "stream",
     "text": [
      "\n",
      "\n",
      "获得神光棒x1\n",
      "我是某胜利队队员大骨tang\n",
      "可~,n我是光之巨人\n",
      "\n"
     ]
    }
   ],
   "source": [
    "def light1(func):\n",
    "    print(\"获得神光棒x1\")\n",
    "\n",
    "    def tiga():\n",
    "        func()\n",
    "        print(\"可~,n我是光之巨人\\n\")\n",
    "\n",
    "    return tiga\n",
    "def person1():\n",
    "    #呵呵哈哈哈或或\n",
    "    print(\"我是某胜利队队员大骨tang\")\n",
    "\n",
    "print(\"\\n\")\n",
    "light1(person1)()  #以函数person1为参数"
   ]
  },
  {
   "cell_type": "markdown",
   "id": "3a58f8e2",
   "metadata": {
    "pycharm": {
     "name": "#%%\n"
    }
   },
   "source": [
    "## 类装饰器"
   ]
  },
  {
   "cell_type": "markdown",
   "id": "bf357973",
   "metadata": {},
   "source": [
    "装饰器还可以通过类来实现，其实主要是利用类的以下特点来变相实现函数装饰器功能：\n",
    "\n",
    "函数调用语语法f()等同于类的实例化，即调用类的__init__函数创建对象\n",
    "\n",
    "对象的调用obj()等同于运行对象的__call__魔法函数\n",
    "\n",
    "通过类实现装饰器，可以避免函数装饰器超过2层的嵌套情况，因为如果有三层的话，最外层函数可以认为是在调用类的__init__函数，\n",
    "\n",
    "这样可以让代码更易读和维护\n",
    "\n",
    "本质，只要实现类的__init__和__call__魔法函数，并在__init__函数内接受装饰器参数，在__call__函数内实现具体装饰器结构即可\n",
    "\n",
    "下面举例，用类实现带参装饰器，可以观察下不同"
   ]
  },
  {
   "cell_type": "code",
   "execution_count": 28,
   "id": "a2635019",
   "metadata": {
    "scrolled": true
   },
   "outputs": [
    {
     "name": "stdout",
     "output_type": "stream",
     "text": [
      "装饰带参数的函数，函数传的参数为：4, 5\n",
      "带参数的装饰器，装饰器传的参数为：1, 2\n"
     ]
    }
   ],
   "source": [
    "from functools import wraps \n",
    "#定义一个装饰器名称的类\n",
    "class  with_para_decorator: \n",
    "    #在类的__init__函数内接受装饰器参数，并赋值给类的实例参数，这样可以让其他函数随时使用\n",
    "    #当然，如果装饰器没有参数，此处不转a,b即可，相当于类无参实例化\n",
    "    def __init__(self,a,b):    \n",
    "        self.a=a\n",
    "        self.b=b\n",
    "    #在类的__call__函数内接受被装饰函数，并具体定义装饰器\n",
    "    def __call__(self,func):   \n",
    "        @wraps(func)   \n",
    "        def wrap_function(arg1,arg2):  \n",
    "            print('装饰带参数的函数，函数传的参数为：{0}, {1}'.format(arg1,arg2))\n",
    "            print('带参数的装饰器，装饰器传的参数为：{0}, {1}'.format(self.a,self.b))\n",
    "            return func(arg1,arg2)   \n",
    "        return wrap_function\n",
    "#使用装饰器\n",
    "@with_para_decorator(1,2)  \n",
    "def need_decorate(a,b):   \n",
    "    pass\n",
    "need_decorate(4,5) \n"
   ]
  },
  {
   "cell_type": "markdown",
   "id": "d9ad6d48",
   "metadata": {},
   "source": [
    "以上代码具体原理解析如下：\n",
    "\n",
    " @with_para_decorator(1,2)，因为是类的名称，相当于使用(1,2)参数创建并返回该类的一个实例对象，比如是 obj\n",
    " 此时，语法变为@obj，相当于need_decorate=obj(need_decorate)，此时会调用obj.__call__魔法函数，而我们在该魔法函数具体实现了装饰器功能\n",
    " 可以看到，其本质的运行原理，和函数装饰器没区别，只是将三层函数嵌套，变成了一个__init__函数和__call__函数的两层嵌套\n",
    " 对比下来，可以看到，类装饰器，代码更加直观"
   ]
  },
  {
   "cell_type": "code",
   "execution_count": 29,
   "id": "50b4847c",
   "metadata": {},
   "outputs": [
    {
     "name": "stdout",
     "output_type": "stream",
     "text": [
      "嘿\n",
      "变成光\n",
      "光之巨人\n",
      "刺客形态\n",
      "速度很快\n",
      "战士形态\n",
      "打不住\n"
     ]
    }
   ],
   "source": [
    "from functools import wraps\n",
    "class DiJia():\n",
    "    def __init__(self,f):#__init__方法负责对象的初始化，系统执行该方法前，其实该对象已经存在了\n",
    "        self.f=f\n",
    "    def __call__(self,*args,**kwargs):#一个类实例也可以变成一个可调用对象，只需要实现一个特殊\n",
    "                                       #方法__call__()。用后可对 python 实例直接调用\n",
    "        print(\"嘿\")\n",
    "        self.f(*args,**kwargs)\n",
    "        print(\"光之巨人\")\n",
    "    def Red(self,f):\n",
    "        def wrapper(*args,**kwargs):\n",
    "            print(\"战士形态\")\n",
    "            f(*args,**kwargs)\n",
    "        return wrapper\n",
    "\n",
    "    @classmethod\n",
    "    def Blue(cls,f):  # cls为类,args是一个数组，kwargs一个字典\n",
    "        def wrapper(*args,**kwargs):\n",
    "            print(\"刺客形态\")\n",
    "            f(*args,**kwargs)\n",
    "        return wrapper\n",
    "@DiJia#装饰func方法\n",
    "def func():\n",
    "    print(\"变成光\")\n",
    "\n",
    "func()#相当于实例化方法\n",
    "@DiJia.Blue\n",
    "def fight():\n",
    "    print(\"速度很快\")\n",
    "fight()\n",
    "\n",
    "@func.Red\n",
    "def fight2():\n",
    "    print(\"打不住\")\n",
    "fight2(\n",
    ")\n",
    "\n"
   ]
  },
  {
   "cell_type": "markdown",
   "id": "8571facc",
   "metadata": {},
   "source": [
    "### 装饰器顺序一个函数还可以同时定义多个装饰器，比如："
   ]
  },
  {
   "cell_type": "code",
   "execution_count": 30,
   "id": "f66a69d7",
   "metadata": {},
   "outputs": [
    {
     "ename": "NameError",
     "evalue": "name 'a' is not defined",
     "output_type": "error",
     "traceback": [
      "\u001B[1;31m---------------------------------------------------------------------------\u001B[0m",
      "\u001B[1;31mNameError\u001B[0m                                 Traceback (most recent call last)",
      "\u001B[1;32m~\\AppData\\Local\\Temp/ipykernel_11312/1497063019.py\u001B[0m in \u001B[0;36m<module>\u001B[1;34m\u001B[0m\n\u001B[1;32m----> 1\u001B[1;33m \u001B[1;33m@\u001B[0m\u001B[0ma\u001B[0m\u001B[1;33m\u001B[0m\u001B[1;33m\u001B[0m\u001B[0m\n\u001B[0m\u001B[0;32m      2\u001B[0m \u001B[1;33m@\u001B[0m\u001B[0mb\u001B[0m\u001B[1;33m\u001B[0m\u001B[1;33m\u001B[0m\u001B[0m\n\u001B[0;32m      3\u001B[0m \u001B[1;33m@\u001B[0m\u001B[0mc\u001B[0m\u001B[1;33m\u001B[0m\u001B[1;33m\u001B[0m\u001B[0m\n\u001B[0;32m      4\u001B[0m \u001B[1;32mdef\u001B[0m \u001B[0mf\u001B[0m \u001B[1;33m(\u001B[0m\u001B[1;33m)\u001B[0m\u001B[1;33m:\u001B[0m\u001B[1;33m\u001B[0m\u001B[1;33m\u001B[0m\u001B[0m\n\u001B[0;32m      5\u001B[0m     \u001B[1;32mpass\u001B[0m\u001B[1;33m\u001B[0m\u001B[1;33m\u001B[0m\u001B[0m\n",
      "\u001B[1;31mNameError\u001B[0m: name 'a' is not defined"
     ]
    }
   ],
   "source": [
    "@a\n",
    "@b\n",
    "@c\n",
    "def f ():\n",
    "    pass"
   ]
  },
  {
   "cell_type": "markdown",
   "id": "84c0c73e",
   "metadata": {},
   "source": [
    "它的执行顺序是从里到外，最先调用最里层的装饰器，最后调用最外层的装饰器，它等效于\n",
    "\n",
    "f = a(b(c(f)))"
   ]
  }
 ],
 "metadata": {
  "kernelspec": {
   "display_name": "Python 3 (ipykernel)",
   "language": "python",
   "name": "python3"
  },
  "language_info": {
   "codemirror_mode": {
    "name": "ipython",
    "version": 3
   },
   "file_extension": ".py",
   "mimetype": "text/x-python",
   "name": "python",
   "nbconvert_exporter": "python",
   "pygments_lexer": "ipython3",
   "version": "3.9.5"
  },
  "nbTranslate": {
   "displayLangs": [
    "*"
   ],
   "hotkey": "alt-t",
   "langInMainMenu": true,
   "sourceLang": "en",
   "targetLang": "fr",
   "useGoogleTranslate": true
  }
 },
 "nbformat": 4,
 "nbformat_minor": 5
}